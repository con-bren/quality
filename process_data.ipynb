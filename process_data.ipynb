{
 "cells": [
  {
   "cell_type": "code",
   "execution_count": 2,
   "id": "1dc96455-df07-49be-958b-67c7570bf5f1",
   "metadata": {
    "tags": []
   },
   "outputs": [],
   "source": [
    "import json\n",
    "\n",
    "INPUT_FILE = f\"/ccs/home/connor.brennan/project_home/quality/data/v1.0.1/QuALITY.v1.0.1.htmlstripped.train\"\n",
    "OUTPUT_FILE = f\"/ccs/home/connor.brennan/project_home/quality/data/gpt-neox/train.jsonl\"\n",
    "\n",
    "# read in input file\n",
    "with open(INPUT_FILE, \"r\") as f:\n",
    "    input_data = [json.loads(line) for line in f]\n",
    "\n",
    "output_data = []\n",
    "\n",
    "# iterate over each input object\n",
    "for input_obj in input_data:\n",
    "    article = input_obj[\"article\"]\n",
    "    questions = input_obj[\"questions\"]\n",
    "\n",
    "    # iterate over each question in the questions list\n",
    "    for question_obj in questions:\n",
    "        question = question_obj[\"question\"]\n",
    "        options = question_obj[\"options\"]\n",
    "        gold_label = question_obj[\"gold_label\"]\n",
    "        difficult = question_obj[\"difficult\"]\n",
    "\n",
    "        # create output object\n",
    "        output_obj = {\"text\": f\"Article: {article} Question: {question} \"}\n",
    "        for i, option in enumerate(options):\n",
    "            output_obj[\"text\"] += f\"{chr(i+65)}: {option} \"\n",
    "        output_obj[\"text\"] += f\"Answer: {chr(gold_label+65)}\"\n",
    "        \n",
    "        # Cut to context length of 2047 +1 eod_token during processing\n",
    "        output_obj[\"text\"] = output_obj[\"text\"][-2047:]\n",
    "\n",
    "        output_data.append(output_obj)\n",
    "\n",
    "# write output file\n",
    "with open(OUTPUT_FILE, \"w\") as f:\n",
    "    for output_obj in output_data:\n",
    "        f.write(json.dumps(output_obj) + \"\\n\")"
   ]
  },
  {
   "cell_type": "code",
   "execution_count": null,
   "id": "79f40b48-4d29-43e1-92f0-d855e7f63fde",
   "metadata": {},
   "outputs": [],
   "source": []
  }
 ],
 "metadata": {
  "kernelspec": {
   "display_name": "jupyter",
   "language": "python",
   "name": "jupyter_39"
  },
  "language_info": {
   "codemirror_mode": {
    "name": "ipython",
    "version": 3
   },
   "file_extension": ".py",
   "mimetype": "text/x-python",
   "name": "python",
   "nbconvert_exporter": "python",
   "pygments_lexer": "ipython3",
   "version": "3.9.0"
  }
 },
 "nbformat": 4,
 "nbformat_minor": 5
}
